{
 "cells": [
  {
   "cell_type": "code",
   "execution_count": 1,
   "id": "fd8a4cdd",
   "metadata": {},
   "outputs": [],
   "source": [
    "import keras\n",
    "import tensorflow as tf\n",
    "from tensorflow.keras.utils import Sequence\n",
    "from tensorflow.keras import layers\n",
    "from matplotlib import pyplot as plt"
   ]
  },
  {
   "cell_type": "code",
   "execution_count": 2,
   "id": "45f6cd78",
   "metadata": {},
   "outputs": [],
   "source": [
    "import pandas_datareader as pdr"
   ]
  },
  {
   "cell_type": "code",
   "execution_count": 3,
   "id": "c3c7972a",
   "metadata": {},
   "outputs": [],
   "source": [
    "import numpy as np\n",
    "import pandas as pd"
   ]
  },
  {
   "cell_type": "code",
   "execution_count": 4,
   "id": "8ceee957",
   "metadata": {},
   "outputs": [
    {
     "data": {
      "text/plain": [
       "Date\n",
       "1999-11-18    19.760000\n",
       "1999-11-19    19.110001\n",
       "1999-11-22    19.980000\n",
       "1999-11-23    21.000000\n",
       "1999-11-24    20.260000\n",
       "                ...    \n",
       "2022-11-14    23.730000\n",
       "2022-11-15    24.540001\n",
       "2022-11-16    24.110001\n",
       "2022-11-17    23.930000\n",
       "2022-11-18    23.120001\n",
       "Name: Adj Close, Length: 5789, dtype: float64"
      ]
     },
     "execution_count": 4,
     "metadata": {},
     "output_type": "execute_result"
    }
   ],
   "source": [
    "vix = pdr.data.get_data_yahoo('^VIX', start=pd.Timestamp(1999,11,19), end=pd.Timestamp(2022,11,19))['Adj Close']\n",
    "vix"
   ]
  },
  {
   "cell_type": "code",
   "execution_count": 5,
   "id": "1275ee51",
   "metadata": {},
   "outputs": [
    {
     "data": {
      "text/plain": [
       "(63, 252, 1)"
      ]
     },
     "execution_count": 5,
     "metadata": {},
     "output_type": "execute_result"
    }
   ],
   "source": [
    "input_array = vix.to_frame().values[-1000:]\n",
    "\n",
    "class StrideData(Sequence):\n",
    "    def __init__(self, x_set, y_set, lookback, stride):\n",
    "        self.x, self.y = x_set, y_set\n",
    "        self.lookback = lookback\n",
    "        self.stride = stride\n",
    "\n",
    "    def __len__(self):\n",
    "#         print(len(self.x))\n",
    "#         print(self.stride)\n",
    "#         print(self.batch_size)\n",
    "        return int(np.floor(((len(self.x) - self.lookback) / self.stride)))\n",
    "\n",
    "    def __getitem__(self, idx):\n",
    "        batch_x_list = [self.x[idx * self.stride + i: (idx * self.stride) + self.lookback + i] for i in range(self.stride)]\n",
    "        batch_y_list = [self.y[idx * self.stride + i: (idx * self.stride) + self.lookback + i] for i in range(self.stride)]\n",
    "\n",
    "        return np.stack(batch_x_list), np.stack(batch_y_list)\n",
    "    \n",
    "stride_data = StrideData(input_array[:-1], input_array[1:], lookback=252, stride=63)\n",
    "stride_data.__len__()\n",
    "stride_data.__getitem__(10)[0].shape # 63 samples, of 252 timestep, 1 features"
   ]
  },
  {
   "cell_type": "code",
   "execution_count": 6,
   "id": "5fb03ec4",
   "metadata": {},
   "outputs": [
    {
     "name": "stdout",
     "output_type": "stream",
     "text": [
      "46/46 [==============================] - 12s 259ms/step - loss: 547.0991 - mean_squared_error: 547.0991 - mean_absolute_error: 21.5910\n"
     ]
    },
    {
     "data": {
      "text/plain": [
       "<keras.callbacks.History at 0x1b1c7e34430>"
      ]
     },
     "execution_count": 6,
     "metadata": {},
     "output_type": "execute_result"
    }
   ],
   "source": [
    "opt_adam = tf.keras.optimizers.Adam()\n",
    "loss_mse = tf.keras.losses.MeanSquaredError(reduction=\"auto\", name=\"mean_squared_error\")\n",
    "# loss_mae = tf.keras.losses.MeanAbsoluteError(reduction=\"auto\", name=\"mean_absolute_error\")\n",
    "\n",
    "metric_mse = tf.keras.metrics.MeanSquaredError(\n",
    "    name='mean_squared_error', dtype=None\n",
    ")\n",
    "metric_mae = tf.keras.metrics.MeanAbsoluteError(\n",
    "    name='mean_absolute_error', dtype=None\n",
    ")\n",
    "\n",
    "# look_back_period \n",
    "\n",
    "model = tf.keras.Sequential()\n",
    "model.add(layers.Input((60,1,)))\n",
    "model.add(layers.LSTM(5))\n",
    "model.add(layers.Dense(2))\n",
    "model.add(layers.Dense(1))\n",
    "model.compile(loss=loss_mse, optimizer=opt_adam, metrics=[metric_mse, metric_mae])\n",
    "\n",
    "model.run_eagerly=True\n",
    "\n",
    "stride_data = StrideData(input_array[:-1], input_array[1:], lookback=60, stride=20)\n",
    "\n",
    "model.fit(x=stride_data, use_multiprocessing=False)"
   ]
  },
  {
   "cell_type": "code",
   "execution_count": 7,
   "id": "6f3f43c0",
   "metadata": {},
   "outputs": [
    {
     "name": "stdout",
     "output_type": "stream",
     "text": [
      "Model: \"sequential\"\n",
      "_________________________________________________________________\n",
      " Layer (type)                Output Shape              Param #   \n",
      "=================================================================\n",
      " lstm (LSTM)                 (None, 5)                 140       \n",
      "                                                                 \n",
      " dense (Dense)               (None, 2)                 12        \n",
      "                                                                 \n",
      " dense_1 (Dense)             (None, 1)                 3         \n",
      "                                                                 \n",
      "=================================================================\n",
      "Total params: 155\n",
      "Trainable params: 155\n",
      "Non-trainable params: 0\n",
      "_________________________________________________________________\n"
     ]
    }
   ],
   "source": [
    "model.summary()"
   ]
  },
  {
   "cell_type": "code",
   "execution_count": 8,
   "id": "32b7b9d5",
   "metadata": {},
   "outputs": [
    {
     "data": {
      "text/plain": [
       "(60, 1)"
      ]
     },
     "execution_count": 8,
     "metadata": {},
     "output_type": "execute_result"
    }
   ],
   "source": [
    "stride_data.__getitem__(0)[0][0].shape"
   ]
  },
  {
   "cell_type": "code",
   "execution_count": 9,
   "id": "160fe64a",
   "metadata": {},
   "outputs": [
    {
     "name": "stdout",
     "output_type": "stream",
     "text": [
      "2/2 [==============================] - 0s 25ms/step\n"
     ]
    },
    {
     "data": {
      "text/plain": [
       "array([[0.7778144 ],\n",
       "       [0.7616273 ],\n",
       "       [0.7958876 ],\n",
       "       [0.7981755 ],\n",
       "       [0.8065656 ],\n",
       "       [0.8044356 ],\n",
       "       [0.80082625],\n",
       "       [0.79946387],\n",
       "       [0.7954079 ],\n",
       "       [0.8002447 ],\n",
       "       [0.810535  ],\n",
       "       [0.8132019 ],\n",
       "       [0.8132019 ],\n",
       "       [0.8183157 ],\n",
       "       [0.820447  ],\n",
       "       [0.8242801 ],\n",
       "       [0.82075584],\n",
       "       [0.8202866 ],\n",
       "       [0.8182586 ],\n",
       "       [0.8128296 ],\n",
       "       [0.8065313 ],\n",
       "       [0.81290025],\n",
       "       [0.7990886 ],\n",
       "       [0.7991828 ],\n",
       "       [0.7944254 ],\n",
       "       [0.79158676],\n",
       "       [0.788556  ],\n",
       "       [0.7788261 ],\n",
       "       [0.7856114 ],\n",
       "       [0.78212184],\n",
       "       [0.7853974 ],\n",
       "       [0.7777291 ],\n",
       "       [0.7754554 ],\n",
       "       [0.7962032 ],\n",
       "       [0.78868765],\n",
       "       [0.7843097 ],\n",
       "       [0.77193254],\n",
       "       [0.78416246],\n",
       "       [0.7860361 ],\n",
       "       [0.77418596],\n",
       "       [0.76310384],\n",
       "       [0.75808144],\n",
       "       [0.75290453],\n",
       "       [0.75077486],\n",
       "       [0.7481616 ],\n",
       "       [0.7608174 ],\n",
       "       [0.7527734 ],\n",
       "       [0.7559827 ],\n",
       "       [0.7488582 ],\n",
       "       [0.75184774],\n",
       "       [0.7590463 ],\n",
       "       [0.7412844 ],\n",
       "       [0.7408246 ],\n",
       "       [0.72647893],\n",
       "       [0.73410755],\n",
       "       [0.71681017],\n",
       "       [0.74036217],\n",
       "       [0.74516344],\n",
       "       [0.7380104 ],\n",
       "       [0.7392728 ]], dtype=float32)"
      ]
     },
     "execution_count": 9,
     "metadata": {},
     "output_type": "execute_result"
    }
   ],
   "source": [
    "result = model.predict(x=stride_data.__getitem__(0)[0][0])\n",
    "result"
   ]
  },
  {
   "cell_type": "code",
   "execution_count": 12,
   "id": "b680ec8c",
   "metadata": {},
   "outputs": [
    {
     "data": {
      "text/plain": [
       "[<matplotlib.lines.Line2D at 0x1b1cb4a2d00>]"
      ]
     },
     "execution_count": 12,
     "metadata": {},
     "output_type": "execute_result"
    },
    {
     "data": {
      "image/png": "[encoded data removed]",
      "text/plain": [
       "<Figure size 432x288 with 1 Axes>"
      ]
     },
     "metadata": {
      "needs_background": "light"
     },
     "output_type": "display_data"
    }
   ],
   "source": [
    "plt.plot(result)"
   ]
  },
  {
   "cell_type": "code",
   "execution_count": 13,
   "id": "4b93d0a6",
   "metadata": {},
   "outputs": [
    {
     "data": {
      "text/plain": [
       "[<matplotlib.lines.Line2D at 0x1b1cb508850>]"
      ]
     },
     "execution_count": 13,
     "metadata": {},
     "output_type": "execute_result"
    },
    {
     "data": {
      "image/png": "[encoded data removed]",
      "text/plain": [
       "<Figure size 432x288 with 1 Axes>"
      ]
     },
     "metadata": {
      "needs_background": "light"
     },
     "output_type": "display_data"
    }
   ],
   "source": [
    "plt.plot(stride_data.__getitem__(0)[0][0])"
   ]
  },
  {
   "cell_type": "code",
   "execution_count": null,
   "id": "ac1fb6b2",
   "metadata": {},
   "outputs": [],
   "source": []
  }
 ],
 "metadata": {
  "kernelspec": {
   "display_name": "Python 3 (ipykernel)",
   "language": "python",
   "name": "python3"
  },
  "language_info": {
   "codemirror_mode": {
    "name": "ipython",
    "version": 3
   },
   "file_extension": ".py",
   "mimetype": "text/x-python",
   "name": "python",
   "nbconvert_exporter": "python",
   "pygments_lexer": "ipython3",
   "version": "3.9.12"
  }
 },
 "nbformat": 4,
 "nbformat_minor": 5
}
