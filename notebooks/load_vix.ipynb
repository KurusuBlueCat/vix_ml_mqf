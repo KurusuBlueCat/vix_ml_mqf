{
 "cells": [
  {
   "cell_type": "code",
   "execution_count": 1,
   "id": "fd8a4cdd",
   "metadata": {},
   "outputs": [],
   "source": [
    "import keras"
   ]
  },
  {
   "cell_type": "code",
   "execution_count": 2,
   "id": "45f6cd78",
   "metadata": {},
   "outputs": [],
   "source": [
    "import pandas_datareader as pdr"
   ]
  },
  {
   "cell_type": "code",
   "execution_count": 4,
   "id": "c3c7972a",
   "metadata": {},
   "outputs": [],
   "source": [
    "import pandas as pd"
   ]
  },
  {
   "cell_type": "code",
   "execution_count": 6,
   "id": "8ceee957",
   "metadata": {},
   "outputs": [
    {
     "data": {
      "text/plain": [
       "Date\n",
       "1998-12-31    24.420000\n",
       "1999-01-04    26.170000\n",
       "1999-01-05    24.459999\n",
       "1999-01-06    23.340000\n",
       "1999-01-07    24.370001\n",
       "                ...    \n",
       "2022-11-15    24.540001\n",
       "2022-11-16    24.110001\n",
       "2022-11-17    23.930000\n",
       "2022-11-18    23.120001\n",
       "2022-11-21    22.360001\n",
       "Name: Adj Close, Length: 6013, dtype: float64"
      ]
     },
     "execution_count": 6,
     "metadata": {},
     "output_type": "execute_result"
    }
   ],
   "source": [
    "vix = pdr.data.get_data_yahoo('^VIX', start=pd.Timestamp(1999,1,1))['Adj Close']\n",
    "vix"
   ]
  },
  {
   "cell_type": "code",
   "execution_count": null,
   "id": "d9d1e40d",
   "metadata": {},
   "outputs": [],
   "source": []
  }
 ],
 "metadata": {
  "kernelspec": {
   "display_name": "Python 3 (ipykernel)",
   "language": "python",
   "name": "python3"
  },
  "language_info": {
   "codemirror_mode": {
    "name": "ipython",
    "version": 3
   },
   "file_extension": ".py",
   "mimetype": "text/x-python",
   "name": "python",
   "nbconvert_exporter": "python",
   "pygments_lexer": "ipython3",
   "version": "3.9.12"
  }
 },
 "nbformat": 4,
 "nbformat_minor": 5
}
